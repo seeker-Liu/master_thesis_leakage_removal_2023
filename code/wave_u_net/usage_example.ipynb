{
 "nbformat": 4,
 "nbformat_minor": 0,
 "metadata": {
  "colab": {
   "name": "usage_example.ipynb",
   "provenance": [],
   "collapsed_sections": [],
   "authorship_tag": "ABX9TyMsJTuJwMqVSTtzCNiOCGun",
   "include_colab_link": true
  },
  "kernelspec": {
   "name": "python3",
   "display_name": "Python 3"
  }
 },
 "cells": [
  {
   "cell_type": "markdown",
   "metadata": {
    "id": "view-in-github",
    "colab_type": "text"
   },
   "source": [
    "<a href=\"https://colab.research.google.com/github/satvik-venkatesh/Wave-U-net-TF2/blob/main/usage_example.ipynb\" target=\"_parent\"><img src=\"https://colab.research.google.com/assets/colab-badge.svg\" alt=\"Open In Colab\"/></a>"
   ]
  },
  {
   "cell_type": "code",
   "metadata": {
    "colab": {
     "base_uri": "https://localhost:8080/"
    },
    "id": "upY6vqrXnibQ",
    "outputId": "00b42b59-4082-4cfd-da78-8e5e82539b09"
   },
   "source": [
    "!git clone https://github.com/satvik-venkatesh/Wave-U-net-TF2.git"
   ],
   "execution_count": null,
   "outputs": []
  },
  {
   "cell_type": "code",
   "metadata": {
    "id": "hTzx_Rq6nlg_"
   },
   "source": [
    "!cp \"/content/Wave-U-net-TF2/wave_u_net.py\" ."
   ],
   "execution_count": 2,
   "outputs": []
  },
  {
   "cell_type": "code",
   "metadata": {
    "id": "FB0xU1bEnrNQ"
   },
   "source": [
    "from wave_u_net import wave_u_net"
   ],
   "execution_count": 3,
   "outputs": []
  },
  {
   "cell_type": "code",
   "metadata": {
    "id": "cY0SR5s9ncgV"
   },
   "source": [
    "# Parameters for the Wave-U-net\n",
    "\n",
    "params = {\n",
    "    \"num_initial_filters\": 24,\n",
    "    \"num_layers\": 12,\n",
    "    \"kernel_size\": 15,\n",
    "    \"merge_filter_size\": 5,\n",
    "    \"source_names\": [\"bass\", \"drums\", \"other\", \"vocals\"],\n",
    "    \"num_channels\": 2,\n",
    "    \"output_filter_size\": 1,\n",
    "    \"padding\": \"valid\",\n",
    "    \"input_size\": 147443,\n",
    "    \"context\": True,\n",
    "    \"upsampling_type\": \"learned\",         # \"learned\" or \"linear\"\n",
    "    \"output_activation\": \"linear\",        # \"linear\" or \"tanh\"\n",
    "    \"output_type\": \"difference\",          # \"direct\" or \"difference\"\n",
    "}"
   ],
   "execution_count": 4,
   "outputs": []
  },
  {
   "cell_type": "code",
   "metadata": {
    "id": "M0jpyg7HnvYe"
   },
   "source": [
    "m = wave_u_net(**params)"
   ],
   "execution_count": 5,
   "outputs": []
  },
  {
   "cell_type": "code",
   "metadata": {
    "colab": {
     "base_uri": "https://localhost:8080/"
    },
    "id": "-fCrdDj-q9lu",
    "outputId": "da6c2803-f91f-4d48-dcf1-769a0286455f"
   },
   "source": [
    "m.summary()"
   ],
   "execution_count": null,
   "outputs": []
  },
  {
   "cell_type": "code",
   "metadata": {
    "id": "Ztf4alZyq-_V",
    "colab": {
     "base_uri": "https://localhost:8080/"
    },
    "outputId": "5c4722b5-435e-4759-d5b3-195e803816dc"
   },
   "source": [
    "m.output"
   ],
   "execution_count": null,
   "outputs": []
  },
  {
   "cell_type": "code",
   "metadata": {
    "id": "hm5FRsU1npY6"
   },
   "source": [],
   "execution_count": null,
   "outputs": []
  }
 ]
}
